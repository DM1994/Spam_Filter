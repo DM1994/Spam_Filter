{
 "cells": [
  {
   "cell_type": "markdown",
   "metadata": {},
   "source": [
    "# Spam filter for SMS messages"
   ]
  },
  {
   "cell_type": "markdown",
   "metadata": {},
   "source": [
    "In this project, I will use a dataset of already classified SMS messages from the UCI machine learning repository to construct a spam filter that can detect if a given SMS message is likely to be spam."
   ]
  },
  {
   "cell_type": "code",
   "execution_count": 1,
   "metadata": {},
   "outputs": [],
   "source": [
    "#Import the dataset and name the columns as 'Label' and 'SMS'\n",
    "\n",
    "import pandas as pd\n",
    "dataset = pd.read_csv('SMSSpamCollection', sep='\\t', header=None, names=['Label', 'SMS'])"
   ]
  },
  {
   "cell_type": "code",
   "execution_count": 45,
   "metadata": {},
   "outputs": [
    {
     "data": {
      "text/html": [
       "<div>\n",
       "<style scoped>\n",
       "    .dataframe tbody tr th:only-of-type {\n",
       "        vertical-align: middle;\n",
       "    }\n",
       "\n",
       "    .dataframe tbody tr th {\n",
       "        vertical-align: top;\n",
       "    }\n",
       "\n",
       "    .dataframe thead th {\n",
       "        text-align: right;\n",
       "    }\n",
       "</style>\n",
       "<table border=\"1\" class=\"dataframe\">\n",
       "  <thead>\n",
       "    <tr style=\"text-align: right;\">\n",
       "      <th></th>\n",
       "      <th>Label</th>\n",
       "      <th>SMS</th>\n",
       "    </tr>\n",
       "  </thead>\n",
       "  <tbody>\n",
       "    <tr>\n",
       "      <th>1078</th>\n",
       "      <td>ham</td>\n",
       "      <td>[yep, by, the, pretty, sculpture]</td>\n",
       "    </tr>\n",
       "    <tr>\n",
       "      <th>4028</th>\n",
       "      <td>ham</td>\n",
       "      <td>[yes, princess, are, you, going, to, make, me, moan]</td>\n",
       "    </tr>\n",
       "    <tr>\n",
       "      <th>958</th>\n",
       "      <td>ham</td>\n",
       "      <td>[welp, apparently, he, retired]</td>\n",
       "    </tr>\n",
       "    <tr>\n",
       "      <th>4642</th>\n",
       "      <td>ham</td>\n",
       "      <td>[havent]</td>\n",
       "    </tr>\n",
       "    <tr>\n",
       "      <th>4674</th>\n",
       "      <td>ham</td>\n",
       "      <td>[I, forgot, 2, ask, ü, all, smth, there, s, a, card, on, da, present, lei, how, Ü, all, want, 2, write, smth, or, sign, on, it]</td>\n",
       "    </tr>\n",
       "    <tr>\n",
       "      <th>5461</th>\n",
       "      <td>ham</td>\n",
       "      <td>[ok, i, thk, i, got, it, then, u, wan, me, 2, come, now, or, wat]</td>\n",
       "    </tr>\n",
       "    <tr>\n",
       "      <th>4210</th>\n",
       "      <td>ham</td>\n",
       "      <td>[I, want, kfc, its, tuesday, only, buy, 2, meals, ONLY, 2, no, gravy, only, 2, mark, 2, !]</td>\n",
       "    </tr>\n",
       "    <tr>\n",
       "      <th>4216</th>\n",
       "      <td>ham</td>\n",
       "      <td>[no, dear, i, was, sleeping, P]</td>\n",
       "    </tr>\n",
       "    <tr>\n",
       "      <th>1603</th>\n",
       "      <td>ham</td>\n",
       "      <td>[ok, pa, nothing, problem]</td>\n",
       "    </tr>\n",
       "    <tr>\n",
       "      <th>1504</th>\n",
       "      <td>ham</td>\n",
       "      <td>[ill, be, there, on, lt, gt, ok]</td>\n",
       "    </tr>\n",
       "  </tbody>\n",
       "</table>\n",
       "</div>"
      ],
      "text/plain": [
       "     Label  \\\n",
       "1078  ham    \n",
       "4028  ham    \n",
       "958   ham    \n",
       "4642  ham    \n",
       "4674  ham    \n",
       "5461  ham    \n",
       "4210  ham    \n",
       "4216  ham    \n",
       "1603  ham    \n",
       "1504  ham    \n",
       "\n",
       "                                                                                                                                  SMS  \n",
       "1078  [yep, by, the, pretty, sculpture]                                                                                                \n",
       "4028  [yes, princess, are, you, going, to, make, me, moan]                                                                             \n",
       "958   [welp, apparently, he, retired]                                                                                                  \n",
       "4642  [havent]                                                                                                                         \n",
       "4674  [I, forgot, 2, ask, ü, all, smth, there, s, a, card, on, da, present, lei, how, Ü, all, want, 2, write, smth, or, sign, on, it]  \n",
       "5461  [ok, i, thk, i, got, it, then, u, wan, me, 2, come, now, or, wat]                                                                \n",
       "4210  [I, want, kfc, its, tuesday, only, buy, 2, meals, ONLY, 2, no, gravy, only, 2, mark, 2, !]                                       \n",
       "4216  [no, dear, i, was, sleeping, P]                                                                                                  \n",
       "1603  [ok, pa, nothing, problem]                                                                                                       \n",
       "1504  [ill, be, there, on, lt, gt, ok]                                                                                                 "
      ]
     },
     "execution_count": 45,
     "metadata": {},
     "output_type": "execute_result"
    }
   ],
   "source": [
    "dataset.head(10)"
   ]
  },
  {
   "cell_type": "markdown",
   "metadata": {},
   "source": [
    "All of the messages have been labelled by a human as either 'spam' or 'ham' (non-spam). The label column shows that label for each SMS."
   ]
  },
  {
   "cell_type": "code",
   "execution_count": 3,
   "metadata": {},
   "outputs": [
    {
     "data": {
      "text/plain": [
       "ham     0.865937\n",
       "spam    0.134063\n",
       "Name: Label, dtype: float64"
      ]
     },
     "execution_count": 3,
     "metadata": {},
     "output_type": "execute_result"
    }
   ],
   "source": [
    "dataset['Label'].value_counts(normalize=True)"
   ]
  },
  {
   "cell_type": "code",
   "execution_count": 4,
   "metadata": {},
   "outputs": [
    {
     "name": "stdout",
     "output_type": "stream",
     "text": [
      "4458\n"
     ]
    }
   ],
   "source": [
    "# Randomise the dataset. Find the value equivalent to 80% of the dataset. 80% of the classified messages will be used\n",
    "# to train the algorithm. The other 20% will be used to test it.\n",
    "dataset = dataset.sample(frac=1, random_state=1)\n",
    "cutoff = round(0.8*(len(dataset.index)))\n",
    "print(cutoff)"
   ]
  },
  {
   "cell_type": "code",
   "execution_count": 5,
   "metadata": {},
   "outputs": [],
   "source": [
    "# Divide the dataset into a training dataset and a test dataset.\n",
    "training = dataset.iloc[0 : 4458]\n",
    "test = dataset.iloc[4458 :]"
   ]
  },
  {
   "cell_type": "code",
   "execution_count": 6,
   "metadata": {},
   "outputs": [
    {
     "name": "stdout",
     "output_type": "stream",
     "text": [
      "(4458, 2)\n",
      "(1114, 2)\n"
     ]
    }
   ],
   "source": [
    "# Reset the index for the newly created dataframes\n",
    "training = training.reset_index(drop=True)\n",
    "test = test.reset_index(drop=True)\n",
    "print(training.shape)\n",
    "print(test.shape)"
   ]
  },
  {
   "cell_type": "code",
   "execution_count": 7,
   "metadata": {},
   "outputs": [
    {
     "data": {
      "text/plain": [
       "ham     0.86541\n",
       "spam    0.13459\n",
       "Name: Label, dtype: float64"
      ]
     },
     "execution_count": 7,
     "metadata": {},
     "output_type": "execute_result"
    }
   ],
   "source": [
    "training['Label'].value_counts(normalize=True)"
   ]
  },
  {
   "cell_type": "code",
   "execution_count": 8,
   "metadata": {},
   "outputs": [
    {
     "data": {
      "text/plain": [
       "ham     0.868043\n",
       "spam    0.131957\n",
       "Name: Label, dtype: float64"
      ]
     },
     "execution_count": 8,
     "metadata": {},
     "output_type": "execute_result"
    }
   ],
   "source": [
    "test['Label'].value_counts(normalize=True)"
   ]
  },
  {
   "cell_type": "markdown",
   "metadata": {},
   "source": [
    "The percentage of spam vs non_spam messages in the two samples is very close to the percentages in the dataset. This\n",
    "shows that the two datasets are representative of the original dataset."
   ]
  },
  {
   "cell_type": "code",
   "execution_count": 9,
   "metadata": {
    "scrolled": true
   },
   "outputs": [],
   "source": [
    "#Clean the SMS data so it's easier to analyse\n",
    "import re\n",
    "training['SMS'] = training['SMS'].str.replace('\\W',' ').str.lower()\n"
   ]
  },
  {
   "cell_type": "code",
   "execution_count": 10,
   "metadata": {},
   "outputs": [
    {
     "data": {
      "text/html": [
       "<div>\n",
       "<style scoped>\n",
       "    .dataframe tbody tr th:only-of-type {\n",
       "        vertical-align: middle;\n",
       "    }\n",
       "\n",
       "    .dataframe tbody tr th {\n",
       "        vertical-align: top;\n",
       "    }\n",
       "\n",
       "    .dataframe thead th {\n",
       "        text-align: right;\n",
       "    }\n",
       "</style>\n",
       "<table border=\"1\" class=\"dataframe\">\n",
       "  <thead>\n",
       "    <tr style=\"text-align: right;\">\n",
       "      <th></th>\n",
       "      <th>Label</th>\n",
       "      <th>SMS</th>\n",
       "    </tr>\n",
       "  </thead>\n",
       "  <tbody>\n",
       "    <tr>\n",
       "      <th>0</th>\n",
       "      <td>ham</td>\n",
       "      <td>yep  by the pretty sculpture</td>\n",
       "    </tr>\n",
       "    <tr>\n",
       "      <th>1</th>\n",
       "      <td>ham</td>\n",
       "      <td>yes  princess  are you going to make me moan</td>\n",
       "    </tr>\n",
       "    <tr>\n",
       "      <th>2</th>\n",
       "      <td>ham</td>\n",
       "      <td>welp apparently he retired</td>\n",
       "    </tr>\n",
       "    <tr>\n",
       "      <th>3</th>\n",
       "      <td>ham</td>\n",
       "      <td>havent</td>\n",
       "    </tr>\n",
       "    <tr>\n",
       "      <th>4</th>\n",
       "      <td>ham</td>\n",
       "      <td>i forgot 2 ask ü all smth   there s a card on ...</td>\n",
       "    </tr>\n",
       "    <tr>\n",
       "      <th>5</th>\n",
       "      <td>ham</td>\n",
       "      <td>ok i thk i got it  then u wan me 2 come now or...</td>\n",
       "    </tr>\n",
       "    <tr>\n",
       "      <th>6</th>\n",
       "      <td>ham</td>\n",
       "      <td>i want kfc its tuesday  only buy 2 meals only ...</td>\n",
       "    </tr>\n",
       "    <tr>\n",
       "      <th>7</th>\n",
       "      <td>ham</td>\n",
       "      <td>no dear i was sleeping   p</td>\n",
       "    </tr>\n",
       "    <tr>\n",
       "      <th>8</th>\n",
       "      <td>ham</td>\n",
       "      <td>ok pa  nothing problem</td>\n",
       "    </tr>\n",
       "    <tr>\n",
       "      <th>9</th>\n",
       "      <td>ham</td>\n",
       "      <td>ill be there on   lt   gt   ok</td>\n",
       "    </tr>\n",
       "  </tbody>\n",
       "</table>\n",
       "</div>"
      ],
      "text/plain": [
       "  Label                                                SMS\n",
       "0   ham                       yep  by the pretty sculpture\n",
       "1   ham      yes  princess  are you going to make me moan \n",
       "2   ham                         welp apparently he retired\n",
       "3   ham                                            havent \n",
       "4   ham  i forgot 2 ask ü all smth   there s a card on ...\n",
       "5   ham  ok i thk i got it  then u wan me 2 come now or...\n",
       "6   ham  i want kfc its tuesday  only buy 2 meals only ...\n",
       "7   ham                         no dear i was sleeping   p\n",
       "8   ham                          ok pa  nothing problem   \n",
       "9   ham                    ill be there on   lt   gt   ok "
      ]
     },
     "execution_count": 10,
     "metadata": {},
     "output_type": "execute_result"
    }
   ],
   "source": [
    "training.head(10)"
   ]
  },
  {
   "cell_type": "code",
   "execution_count": 11,
   "metadata": {},
   "outputs": [
    {
     "data": {
      "text/plain": [
       "0                     [yep, by, the, pretty, sculpture]\n",
       "1     [yes, princess, are, you, going, to, make, me,...\n",
       "2                       [welp, apparently, he, retired]\n",
       "3                                              [havent]\n",
       "4     [i, forgot, 2, ask, ü, all, smth, there, s, a,...\n",
       "5     [ok, i, thk, i, got, it, then, u, wan, me, 2, ...\n",
       "6     [i, want, kfc, its, tuesday, only, buy, 2, mea...\n",
       "7                       [no, dear, i, was, sleeping, p]\n",
       "8                            [ok, pa, nothing, problem]\n",
       "9                      [ill, be, there, on, lt, gt, ok]\n",
       "10    [my, uncles, in, atlanta, wish, you, guys, a, ...\n",
       "11                                          [my, phone]\n",
       "12                   [ok, which, your, another, number]\n",
       "13    [the, greatest, test, of, courage, on, earth, ...\n",
       "14    [dai, what, this, da, can, i, send, my, resume...\n",
       "15                [i, am, late, i, will, be, there, at]\n",
       "16    [freemsg, why, haven, t, you, replied, to, my,...\n",
       "17           [k, text, me, when, you, re, on, the, way]\n",
       "18    [congrats, 2, mobile, 3g, videophones, r, your...\n",
       "19    [please, leave, this, topic, sorry, for, telli...\n",
       "Name: SMS, dtype: object"
      ]
     },
     "execution_count": 11,
     "metadata": {},
     "output_type": "execute_result"
    }
   ],
   "source": [
    "training['SMS'] = training['SMS'].str.split()\n",
    "training['SMS'].head(20)"
   ]
  },
  {
   "cell_type": "markdown",
   "metadata": {},
   "source": [
    "### Detecting spam using a multinomial Naive Bayes algorithm"
   ]
  },
  {
   "cell_type": "markdown",
   "metadata": {},
   "source": [
    "I will use the following Naive Bayes' algorithm to determine whether a message is more likely to be spam or ham (non-spam). It will take as its input the words in a message (denoted below as $w_{1}$, $w_{2}$ etc.), and output the likelihood of the message being spam or ham (non-spam). \n",
    "\n",
    "P(Spam|$w_{1}$, $w_{2}$...) <font size=\"7\"> ∝ </font> P(Spam) * P($w_{1}$|Spam) * P($w_{2}$|Spam) ...\n",
    "\n",
    "P(Ham|$w_{1}$, $w_{2}$...) <font size=\"7\"> ∝ </font>  P(Ham) * P($w_{1}$|Ham) * P($w_{2}$|Ham) ...\n",
    "\n",
    "In the above equation, to determine the probability of each word appearing in a message given that the message is spam or given that the message is ham, we will use a Laplace smoothing technique (this is to prevent multiplication by 0 for words that may not appear in either spam or ham). The can be represented as follows:\n",
    "\n",
    "P($w_{i}$|Spam) = (N$_{w_{i}}$|Spam) + α) / (N$_{Spam}$ + (α * N$_{Vocabulary}$))\n",
    "\n",
    "P($w_{i}$|Ham) = (N$_{w_{i}}$|Ham) + α) / (N$_{Ham}$ + (α * N$_{Vocabulary}$))\n",
    "\n",
    "We will use 1 as our α variable. The algorithm will output either 'Ham' or 'Spam' depending on which probability is higher."
   ]
  },
  {
   "cell_type": "code",
   "execution_count": 12,
   "metadata": {
    "scrolled": true
   },
   "outputs": [],
   "source": [
    "#First we calculate the prior probabilities that a message is spam or ham (i.e. P(Spam) and P(Ham))\n",
    "\n",
    "p_spam = training['Label'].value_counts(normalize=True)[1]\n",
    "p_ham = training['Label'].value_counts(normalize=True)[0]"
   ]
  },
  {
   "cell_type": "code",
   "execution_count": 13,
   "metadata": {},
   "outputs": [
    {
     "data": {
      "text/plain": [
       "7783"
      ]
     },
     "execution_count": 13,
     "metadata": {},
     "output_type": "execute_result"
    }
   ],
   "source": [
    "#Then we create list of all words in every SMS\n",
    "\n",
    "vocabulary = []\n",
    "for l in training['SMS']:\n",
    "    for w in l:\n",
    "        vocabulary.append(w)\n",
    "vocabulary = set(vocabulary)\n",
    "vocabulary = list(vocabulary)\n",
    "len(vocabulary)       "
   ]
  },
  {
   "cell_type": "code",
   "execution_count": 14,
   "metadata": {},
   "outputs": [],
   "source": [
    "#Next we extend the dataframe so each word in the vocabulary has its own column. Then the number of times each word \n",
    "#appears in each SMS can be entered into the dataframe for analysis.\n",
    "\n",
    "word_counts_per_sms = {unique_word: [0] * len(training['SMS']) for unique_word in vocabulary}\n",
    "for index, sms in enumerate(training['SMS']):\n",
    "    for word in sms:\n",
    "        word_counts_per_sms[word][index] += 1\n",
    "word_counts = pd.DataFrame(word_counts_per_sms)\n",
    "updated_training = pd.concat([training, word_counts], axis=1)\n"
   ]
  },
  {
   "cell_type": "code",
   "execution_count": 15,
   "metadata": {},
   "outputs": [
    {
     "data": {
      "text/html": [
       "<div>\n",
       "<style scoped>\n",
       "    .dataframe tbody tr th:only-of-type {\n",
       "        vertical-align: middle;\n",
       "    }\n",
       "\n",
       "    .dataframe tbody tr th {\n",
       "        vertical-align: top;\n",
       "    }\n",
       "\n",
       "    .dataframe thead th {\n",
       "        text-align: right;\n",
       "    }\n",
       "</style>\n",
       "<table border=\"1\" class=\"dataframe\">\n",
       "  <thead>\n",
       "    <tr style=\"text-align: right;\">\n",
       "      <th></th>\n",
       "      <th>Label</th>\n",
       "      <th>SMS</th>\n",
       "      <th>karo</th>\n",
       "      <th>planning</th>\n",
       "      <th>less</th>\n",
       "      <th>piss</th>\n",
       "      <th>bw</th>\n",
       "      <th>bottle</th>\n",
       "      <th>oredi</th>\n",
       "      <th>walsall</th>\n",
       "      <th>...</th>\n",
       "      <th>scold</th>\n",
       "      <th>footprints</th>\n",
       "      <th>hadn</th>\n",
       "      <th>4msgs</th>\n",
       "      <th>jurong</th>\n",
       "      <th>clean</th>\n",
       "      <th>wld</th>\n",
       "      <th>mins</th>\n",
       "      <th>wen</th>\n",
       "      <th>pride</th>\n",
       "    </tr>\n",
       "  </thead>\n",
       "  <tbody>\n",
       "    <tr>\n",
       "      <th>0</th>\n",
       "      <td>ham</td>\n",
       "      <td>[yep, by, the, pretty, sculpture]</td>\n",
       "      <td>0</td>\n",
       "      <td>0</td>\n",
       "      <td>0</td>\n",
       "      <td>0</td>\n",
       "      <td>0</td>\n",
       "      <td>0</td>\n",
       "      <td>0</td>\n",
       "      <td>0</td>\n",
       "      <td>...</td>\n",
       "      <td>0</td>\n",
       "      <td>0</td>\n",
       "      <td>0</td>\n",
       "      <td>0</td>\n",
       "      <td>0</td>\n",
       "      <td>0</td>\n",
       "      <td>0</td>\n",
       "      <td>0</td>\n",
       "      <td>0</td>\n",
       "      <td>0</td>\n",
       "    </tr>\n",
       "    <tr>\n",
       "      <th>1</th>\n",
       "      <td>ham</td>\n",
       "      <td>[yes, princess, are, you, going, to, make, me,...</td>\n",
       "      <td>0</td>\n",
       "      <td>0</td>\n",
       "      <td>0</td>\n",
       "      <td>0</td>\n",
       "      <td>0</td>\n",
       "      <td>0</td>\n",
       "      <td>0</td>\n",
       "      <td>0</td>\n",
       "      <td>...</td>\n",
       "      <td>0</td>\n",
       "      <td>0</td>\n",
       "      <td>0</td>\n",
       "      <td>0</td>\n",
       "      <td>0</td>\n",
       "      <td>0</td>\n",
       "      <td>0</td>\n",
       "      <td>0</td>\n",
       "      <td>0</td>\n",
       "      <td>0</td>\n",
       "    </tr>\n",
       "    <tr>\n",
       "      <th>2</th>\n",
       "      <td>ham</td>\n",
       "      <td>[welp, apparently, he, retired]</td>\n",
       "      <td>0</td>\n",
       "      <td>0</td>\n",
       "      <td>0</td>\n",
       "      <td>0</td>\n",
       "      <td>0</td>\n",
       "      <td>0</td>\n",
       "      <td>0</td>\n",
       "      <td>0</td>\n",
       "      <td>...</td>\n",
       "      <td>0</td>\n",
       "      <td>0</td>\n",
       "      <td>0</td>\n",
       "      <td>0</td>\n",
       "      <td>0</td>\n",
       "      <td>0</td>\n",
       "      <td>0</td>\n",
       "      <td>0</td>\n",
       "      <td>0</td>\n",
       "      <td>0</td>\n",
       "    </tr>\n",
       "    <tr>\n",
       "      <th>3</th>\n",
       "      <td>ham</td>\n",
       "      <td>[havent]</td>\n",
       "      <td>0</td>\n",
       "      <td>0</td>\n",
       "      <td>0</td>\n",
       "      <td>0</td>\n",
       "      <td>0</td>\n",
       "      <td>0</td>\n",
       "      <td>0</td>\n",
       "      <td>0</td>\n",
       "      <td>...</td>\n",
       "      <td>0</td>\n",
       "      <td>0</td>\n",
       "      <td>0</td>\n",
       "      <td>0</td>\n",
       "      <td>0</td>\n",
       "      <td>0</td>\n",
       "      <td>0</td>\n",
       "      <td>0</td>\n",
       "      <td>0</td>\n",
       "      <td>0</td>\n",
       "    </tr>\n",
       "    <tr>\n",
       "      <th>4</th>\n",
       "      <td>ham</td>\n",
       "      <td>[i, forgot, 2, ask, ü, all, smth, there, s, a,...</td>\n",
       "      <td>0</td>\n",
       "      <td>0</td>\n",
       "      <td>0</td>\n",
       "      <td>0</td>\n",
       "      <td>0</td>\n",
       "      <td>0</td>\n",
       "      <td>0</td>\n",
       "      <td>0</td>\n",
       "      <td>...</td>\n",
       "      <td>0</td>\n",
       "      <td>0</td>\n",
       "      <td>0</td>\n",
       "      <td>0</td>\n",
       "      <td>0</td>\n",
       "      <td>0</td>\n",
       "      <td>0</td>\n",
       "      <td>0</td>\n",
       "      <td>0</td>\n",
       "      <td>0</td>\n",
       "    </tr>\n",
       "  </tbody>\n",
       "</table>\n",
       "<p>5 rows × 7785 columns</p>\n",
       "</div>"
      ],
      "text/plain": [
       "  Label                                                SMS  karo  planning  \\\n",
       "0   ham                  [yep, by, the, pretty, sculpture]     0         0   \n",
       "1   ham  [yes, princess, are, you, going, to, make, me,...     0         0   \n",
       "2   ham                    [welp, apparently, he, retired]     0         0   \n",
       "3   ham                                           [havent]     0         0   \n",
       "4   ham  [i, forgot, 2, ask, ü, all, smth, there, s, a,...     0         0   \n",
       "\n",
       "   less  piss  bw  bottle  oredi  walsall  ...  scold  footprints  hadn  \\\n",
       "0     0     0   0       0      0        0  ...      0           0     0   \n",
       "1     0     0   0       0      0        0  ...      0           0     0   \n",
       "2     0     0   0       0      0        0  ...      0           0     0   \n",
       "3     0     0   0       0      0        0  ...      0           0     0   \n",
       "4     0     0   0       0      0        0  ...      0           0     0   \n",
       "\n",
       "   4msgs  jurong  clean  wld  mins  wen  pride  \n",
       "0      0       0      0    0     0    0      0  \n",
       "1      0       0      0    0     0    0      0  \n",
       "2      0       0      0    0     0    0      0  \n",
       "3      0       0      0    0     0    0      0  \n",
       "4      0       0      0    0     0    0      0  \n",
       "\n",
       "[5 rows x 7785 columns]"
      ]
     },
     "execution_count": 15,
     "metadata": {},
     "output_type": "execute_result"
    }
   ],
   "source": [
    "updated_training.head(5)"
   ]
  },
  {
   "cell_type": "code",
   "execution_count": 16,
   "metadata": {},
   "outputs": [
    {
     "name": "stdout",
     "output_type": "stream",
     "text": [
      "15190\n"
     ]
    }
   ],
   "source": [
    "#Next we find the number of words (total words, not unique words) in all spam messages\n",
    "\n",
    "spam = updated_training[updated_training['Label'] == 'spam']\n",
    "n_spam = spam['SMS'].apply(len).sum()\n",
    "print(n_spam)"
   ]
  },
  {
   "cell_type": "code",
   "execution_count": 17,
   "metadata": {},
   "outputs": [
    {
     "name": "stdout",
     "output_type": "stream",
     "text": [
      "57237\n"
     ]
    }
   ],
   "source": [
    "#And the same for the ham messages\n",
    "\n",
    "ham = updated_training[updated_training['Label'] == 'ham']\n",
    "n_ham = ham['SMS'].apply(len).sum()\n",
    "print(n_ham)"
   ]
  },
  {
   "cell_type": "code",
   "execution_count": 18,
   "metadata": {},
   "outputs": [],
   "source": [
    "#We will use 1 as the alpha variable in the Laplace smoothing equation\n",
    "\n",
    "alpha = 1"
   ]
  },
  {
   "cell_type": "markdown",
   "metadata": {},
   "source": [
    "Now we apply the LaPlace smoothing technique to find the probability of a message containing each of the words in\n",
    "the vocabulary given that the message is either spam or ham. We will save the probabilities of each word appearing in\n",
    "a spam message or a ham message in 2 dictionaries, 1 for spam and 1 for ham"
   ]
  },
  {
   "cell_type": "code",
   "execution_count": 19,
   "metadata": {},
   "outputs": [],
   "source": [
    "ham_dict = {}\n",
    "spam_dict = {}\n",
    "for w in vocabulary:\n",
    "    ham_dict[w] = 0\n",
    "    spam_dict[w] = 0"
   ]
  },
  {
   "cell_type": "code",
   "execution_count": 20,
   "metadata": {},
   "outputs": [],
   "source": [
    "#Below we take each word from the vocabulary, count how many times it appears in both spam and ham messages and apply\n",
    "#LaPlace smoothing technique to determine the likelihood of the word appearing given the message is spam and the \n",
    "#likelihood of it appearing given the message is ham.\n",
    "\n",
    "n_vocabulary = len(vocabulary)\n",
    "for w in vocabulary:\n",
    "    nw_spam = spam['SMS'].apply(lambda x: x.count(w)).sum()\n",
    "    nw_ham = ham['SMS'].apply(lambda x: x.count(w)).sum()\n",
    "    spam_dict[w] = (nw_spam + alpha)/(n_spam + alpha*n_vocabulary)\n",
    "    ham_dict[w] = (nw_ham + alpha)/(n_ham + alpha*n_vocabulary)\n",
    "\n"
   ]
  },
  {
   "cell_type": "markdown",
   "metadata": {},
   "source": [
    "Now that we have the variables we need we can construct the spam filter. We will create a function that takes as it's input a message, cleans the data in the message and applies the multinomial Naive Bayes' algorithm using the prior probailites of a message being spam or ham combined with the probabilities we have saved for each word in the vocabulary. The message will output either 'Spam' or 'Ham' depending on which probability is higher, it will also output the probabilites as determined by the algorithm."
   ]
  },
  {
   "cell_type": "code",
   "execution_count": 21,
   "metadata": {},
   "outputs": [],
   "source": [
    "import re\n",
    "\n",
    "def classify_message(message):\n",
    "    \n",
    "    message = message.replace('\\W',' ').lower().split()\n",
    "    \n",
    "    \n",
    "    x = p_spam\n",
    "    y = p_ham\n",
    "\n",
    "    \n",
    "    for w in message:\n",
    "        if w in spam_dict:\n",
    "            x *= spam_dict[w]\n",
    "        if w in ham_dict:\n",
    "            y *= ham_dict[w]\n",
    "    \n",
    "    p_spam_given_message = x\n",
    "    p_ham_given_message = y\n",
    "    \n",
    "    \n",
    "    print('P(Spam):', p_spam_given_message)\n",
    "    print('P(Ham):', p_ham_given_message)\n",
    "        \n",
    "            \n",
    "    \n",
    "    if p_ham_given_message > p_spam_given_message:\n",
    "        return 'Message is ham'\n",
    "    elif p_ham_given_message < p_spam_given_message:\n",
    "        return 'Message is spam'\n",
    "    else:\n",
    "        return 'Message needs human classification'\n",
    "\n",
    "    "
   ]
  },
  {
   "cell_type": "code",
   "execution_count": 22,
   "metadata": {},
   "outputs": [
    {
     "name": "stdout",
     "output_type": "stream",
     "text": [
      "P(Spam): 5.359472501724851e-18\n",
      "P(Ham): 2.8089018273976984e-14\n"
     ]
    },
    {
     "data": {
      "text/plain": [
       "'Message is ham'"
      ]
     },
     "execution_count": 22,
     "metadata": {},
     "output_type": "execute_result"
    }
   ],
   "source": [
    "#Now we can test the algorithm on a Ham message.\n",
    "classify_message('Sounds good, Tom, then see u there')"
   ]
  },
  {
   "cell_type": "code",
   "execution_count": 23,
   "metadata": {},
   "outputs": [
    {
     "name": "stdout",
     "output_type": "stream",
     "text": [
      "P(Spam): 1.0164097981708963e-18\n",
      "P(Ham): 1.8195638182330266e-19\n"
     ]
    },
    {
     "data": {
      "text/plain": [
       "'Message is spam'"
      ]
     },
     "execution_count": 23,
     "metadata": {},
     "output_type": "execute_result"
    }
   ],
   "source": [
    "#And the same for a Spam message\n",
    "classify_message('WINNER!! This is the secret code to unlock the money: C3421.')"
   ]
  },
  {
   "cell_type": "markdown",
   "metadata": {},
   "source": [
    "The algorithm works. We now need to alter it slightly so that it outputs only the label ('spam' or 'ham'), this way we can test its accuracy by comparing its output to the message's label in the test dataset. "
   ]
  },
  {
   "cell_type": "code",
   "execution_count": 24,
   "metadata": {},
   "outputs": [],
   "source": [
    "def classify_test(message):\n",
    "    \n",
    "    message = message.replace('\\W',' ').lower().split()\n",
    "    \n",
    "    x = p_spam\n",
    "    y = p_ham\n",
    "\n",
    "    \n",
    "    for w in message:\n",
    "        if w in spam_dict:\n",
    "            x *= spam_dict[w]\n",
    "        if w in ham_dict:\n",
    "            y *= ham_dict[w]\n",
    "    \n",
    "    p_spam_given_message = x\n",
    "    p_ham_given_message = y\n",
    "           \n",
    "    \n",
    "    if p_ham_given_message > p_spam_given_message:\n",
    "        return 'ham'\n",
    "    elif p_ham_given_message < p_spam_given_message:\n",
    "        return 'spam'\n",
    "    else:\n",
    "        return 'Needs human classification'"
   ]
  },
  {
   "cell_type": "code",
   "execution_count": 25,
   "metadata": {},
   "outputs": [],
   "source": [
    "test['filter_result'] = test['SMS'].apply(classify_test)"
   ]
  },
  {
   "cell_type": "code",
   "execution_count": 26,
   "metadata": {},
   "outputs": [
    {
     "data": {
      "text/plain": [
       "True     0.982944\n",
       "False    0.017056\n",
       "dtype: float64"
      ]
     },
     "execution_count": 26,
     "metadata": {},
     "output_type": "execute_result"
    }
   ],
   "source": [
    "match = test['Label'] == test['filter_result']\n",
    "match.value_counts(normalize=True)"
   ]
  },
  {
   "cell_type": "markdown",
   "metadata": {},
   "source": [
    "The algorithm is highly accurate (>98%) on the test data. This is a great success.\n",
    "To see if we could make it even more accurate, we can examine instances where it failed."
   ]
  },
  {
   "cell_type": "code",
   "execution_count": 27,
   "metadata": {},
   "outputs": [
    {
     "data": {
      "text/plain": [
       "(19, 3)"
      ]
     },
     "execution_count": 27,
     "metadata": {},
     "output_type": "execute_result"
    }
   ],
   "source": [
    "test[test['Label'] != test['filter_result']].shape"
   ]
  },
  {
   "cell_type": "code",
   "execution_count": 28,
   "metadata": {},
   "outputs": [
    {
     "data": {
      "text/html": [
       "<div>\n",
       "<style scoped>\n",
       "    .dataframe tbody tr th:only-of-type {\n",
       "        vertical-align: middle;\n",
       "    }\n",
       "\n",
       "    .dataframe tbody tr th {\n",
       "        vertical-align: top;\n",
       "    }\n",
       "\n",
       "    .dataframe thead th {\n",
       "        text-align: right;\n",
       "    }\n",
       "</style>\n",
       "<table border=\"1\" class=\"dataframe\">\n",
       "  <thead>\n",
       "    <tr style=\"text-align: right;\">\n",
       "      <th></th>\n",
       "      <th>Label</th>\n",
       "      <th>SMS</th>\n",
       "      <th>filter_result</th>\n",
       "    </tr>\n",
       "  </thead>\n",
       "  <tbody>\n",
       "    <tr>\n",
       "      <th>114</th>\n",
       "      <td>spam</td>\n",
       "      <td>Not heard from U4 a while. Call me now am here all night with just my knickers on. Make me beg for it like U did last time 01223585236 XX Luv Nikiyu4.net</td>\n",
       "      <td>ham</td>\n",
       "    </tr>\n",
       "    <tr>\n",
       "      <th>152</th>\n",
       "      <td>ham</td>\n",
       "      <td>Unlimited texts. Limited minutes.</td>\n",
       "      <td>spam</td>\n",
       "    </tr>\n",
       "    <tr>\n",
       "      <th>159</th>\n",
       "      <td>ham</td>\n",
       "      <td>26th OF JULY</td>\n",
       "      <td>spam</td>\n",
       "    </tr>\n",
       "    <tr>\n",
       "      <th>284</th>\n",
       "      <td>ham</td>\n",
       "      <td>Nokia phone is lovly..</td>\n",
       "      <td>spam</td>\n",
       "    </tr>\n",
       "    <tr>\n",
       "      <th>287</th>\n",
       "      <td>spam</td>\n",
       "      <td>Cashbin.co.uk (Get lots of cash this weekend!) www.cashbin.co.uk Dear Welcome to the weekend We have got our biggest and best EVER cash give away!! These..</td>\n",
       "      <td>ham</td>\n",
       "    </tr>\n",
       "    <tr>\n",
       "      <th>319</th>\n",
       "      <td>ham</td>\n",
       "      <td>We have sent JD for Customer Service cum Accounts Executive to ur mail id, For details contact us</td>\n",
       "      <td>spam</td>\n",
       "    </tr>\n",
       "    <tr>\n",
       "      <th>363</th>\n",
       "      <td>spam</td>\n",
       "      <td>Email AlertFrom: Jeri StewartSize: 2KBSubject: Low-cost prescripiton drvgsTo listen to email call 123</td>\n",
       "      <td>ham</td>\n",
       "    </tr>\n",
       "    <tr>\n",
       "      <th>466</th>\n",
       "      <td>spam</td>\n",
       "      <td>You won't believe it but it's true. It's Incredible Txts! Reply G now to learn truly amazing things that will blow your mind. From O2FWD only 18p/txt</td>\n",
       "      <td>ham</td>\n",
       "    </tr>\n",
       "    <tr>\n",
       "      <th>492</th>\n",
       "      <td>ham</td>\n",
       "      <td>Madam,regret disturbance.might receive a reference check from DLF Premarica.kindly be informed.Rgds,Rakhesh,Kerala.</td>\n",
       "      <td>spam</td>\n",
       "    </tr>\n",
       "    <tr>\n",
       "      <th>504</th>\n",
       "      <td>spam</td>\n",
       "      <td>Oh my god! I've found your number again! I'm so glad, text me back xafter this msgs cst std ntwk chg £1.50</td>\n",
       "      <td>ham</td>\n",
       "    </tr>\n",
       "    <tr>\n",
       "      <th>546</th>\n",
       "      <td>spam</td>\n",
       "      <td>Hi babe its Chloe, how r u? I was smashed on saturday night, it was great! How was your weekend? U been missing me? SP visionsms.com Text stop to stop 150p/text</td>\n",
       "      <td>ham</td>\n",
       "    </tr>\n",
       "    <tr>\n",
       "      <th>649</th>\n",
       "      <td>spam</td>\n",
       "      <td>Am new 2 club &amp; dont fink we met yet Will B gr8 2 C U Please leave msg 2day wiv ur area 09099726553 reply promised CARLIE x Calls£1/minMobsmore LKPOBOX177HP51FL</td>\n",
       "      <td>ham</td>\n",
       "    </tr>\n",
       "    <tr>\n",
       "      <th>741</th>\n",
       "      <td>spam</td>\n",
       "      <td>0A$NETWORKS allow companies to bill for SMS, so they are responsible for their \"suppliers\", just as a shop has to give a guarantee on what they sell. B. G.</td>\n",
       "      <td>ham</td>\n",
       "    </tr>\n",
       "    <tr>\n",
       "      <th>876</th>\n",
       "      <td>spam</td>\n",
       "      <td>RCT' THNQ Adrian for U text. Rgds Vatian</td>\n",
       "      <td>ham</td>\n",
       "    </tr>\n",
       "    <tr>\n",
       "      <th>885</th>\n",
       "      <td>spam</td>\n",
       "      <td>2/2 146tf150p</td>\n",
       "      <td>ham</td>\n",
       "    </tr>\n",
       "    <tr>\n",
       "      <th>917</th>\n",
       "      <td>spam</td>\n",
       "      <td>Dont forget you can place as many FREE Requests with 1stchoice.co.uk as you wish. For more Information call 08707808226.</td>\n",
       "      <td>ham</td>\n",
       "    </tr>\n",
       "    <tr>\n",
       "      <th>953</th>\n",
       "      <td>spam</td>\n",
       "      <td>Hello. We need some posh birds and chaps to user trial prods for champneys. Can i put you down? I need your address and dob asap. Ta r</td>\n",
       "      <td>ham</td>\n",
       "    </tr>\n",
       "    <tr>\n",
       "      <th>1006</th>\n",
       "      <td>spam</td>\n",
       "      <td>A link to your picture has been sent. You can also use http://alto18.co.uk/wave/wave.asp?o=44345</td>\n",
       "      <td>ham</td>\n",
       "    </tr>\n",
       "    <tr>\n",
       "      <th>1073</th>\n",
       "      <td>ham</td>\n",
       "      <td>I (Career Tel) have added u as a contact on INDYAROCKS.COM to send FREE SMS. To remove from phonebook - sms NO to  &amp;lt;#&amp;gt;</td>\n",
       "      <td>spam</td>\n",
       "    </tr>\n",
       "  </tbody>\n",
       "</table>\n",
       "</div>"
      ],
      "text/plain": [
       "     Label  \\\n",
       "114   spam   \n",
       "152   ham    \n",
       "159   ham    \n",
       "284   ham    \n",
       "287   spam   \n",
       "319   ham    \n",
       "363   spam   \n",
       "466   spam   \n",
       "492   ham    \n",
       "504   spam   \n",
       "546   spam   \n",
       "649   spam   \n",
       "741   spam   \n",
       "876   spam   \n",
       "885   spam   \n",
       "917   spam   \n",
       "953   spam   \n",
       "1006  spam   \n",
       "1073  ham    \n",
       "\n",
       "                                                                                                                                                                   SMS  \\\n",
       "114   Not heard from U4 a while. Call me now am here all night with just my knickers on. Make me beg for it like U did last time 01223585236 XX Luv Nikiyu4.net          \n",
       "152   Unlimited texts. Limited minutes.                                                                                                                                  \n",
       "159   26th OF JULY                                                                                                                                                       \n",
       "284   Nokia phone is lovly..                                                                                                                                             \n",
       "287   Cashbin.co.uk (Get lots of cash this weekend!) www.cashbin.co.uk Dear Welcome to the weekend We have got our biggest and best EVER cash give away!! These..        \n",
       "319   We have sent JD for Customer Service cum Accounts Executive to ur mail id, For details contact us                                                                  \n",
       "363   Email AlertFrom: Jeri StewartSize: 2KBSubject: Low-cost prescripiton drvgsTo listen to email call 123                                                              \n",
       "466   You won't believe it but it's true. It's Incredible Txts! Reply G now to learn truly amazing things that will blow your mind. From O2FWD only 18p/txt              \n",
       "492   Madam,regret disturbance.might receive a reference check from DLF Premarica.kindly be informed.Rgds,Rakhesh,Kerala.                                                \n",
       "504   Oh my god! I've found your number again! I'm so glad, text me back xafter this msgs cst std ntwk chg £1.50                                                         \n",
       "546   Hi babe its Chloe, how r u? I was smashed on saturday night, it was great! How was your weekend? U been missing me? SP visionsms.com Text stop to stop 150p/text   \n",
       "649   Am new 2 club & dont fink we met yet Will B gr8 2 C U Please leave msg 2day wiv ur area 09099726553 reply promised CARLIE x Calls£1/minMobsmore LKPOBOX177HP51FL   \n",
       "741   0A$NETWORKS allow companies to bill for SMS, so they are responsible for their \"suppliers\", just as a shop has to give a guarantee on what they sell. B. G.        \n",
       "876   RCT' THNQ Adrian for U text. Rgds Vatian                                                                                                                           \n",
       "885   2/2 146tf150p                                                                                                                                                      \n",
       "917   Dont forget you can place as many FREE Requests with 1stchoice.co.uk as you wish. For more Information call 08707808226.                                           \n",
       "953   Hello. We need some posh birds and chaps to user trial prods for champneys. Can i put you down? I need your address and dob asap. Ta r                             \n",
       "1006  A link to your picture has been sent. You can also use http://alto18.co.uk/wave/wave.asp?o=44345                                                                   \n",
       "1073  I (Career Tel) have added u as a contact on INDYAROCKS.COM to send FREE SMS. To remove from phonebook - sms NO to  &lt;#&gt;                                       \n",
       "\n",
       "     filter_result  \n",
       "114   ham           \n",
       "152   spam          \n",
       "159   spam          \n",
       "284   spam          \n",
       "287   ham           \n",
       "319   spam          \n",
       "363   ham           \n",
       "466   ham           \n",
       "492   spam          \n",
       "504   ham           \n",
       "546   ham           \n",
       "649   ham           \n",
       "741   ham           \n",
       "876   ham           \n",
       "885   ham           \n",
       "917   ham           \n",
       "953   ham           \n",
       "1006  ham           \n",
       "1073  spam          "
      ]
     },
     "execution_count": 28,
     "metadata": {},
     "output_type": "execute_result"
    }
   ],
   "source": [
    "pd.set_option(\"max_colwidth\", 1)\n",
    "test[test['Label'] != test['filter_result']].head(19)"
   ]
  },
  {
   "cell_type": "markdown",
   "metadata": {},
   "source": [
    "A few things can be deduced from this list of messages that the algorithm failed to correctly classify. Many spam messages that were incorrectly labelled ham contained many exclamation marks and words in capitals, but capitals and exclamation marks were ignored by our algorithm. We can improve the algorithm by making it sensitive to words entirely in capitals and also sensitive to exclamation marks."
   ]
  },
  {
   "cell_type": "code",
   "execution_count": 29,
   "metadata": {},
   "outputs": [],
   "source": [
    "#Write a function that turns words to lowercase unless they are entirely in capitals.\n",
    "\n",
    "def keep_uppercase(message):\n",
    "    clean_message = []\n",
    "    for w in message:\n",
    "        if w.isupper() == False:\n",
    "            w = w.lower()\n",
    "            clean_message.append(w)\n",
    "        else:\n",
    "            clean_message.append(w)\n",
    "    return clean_message"
   ]
  },
  {
   "cell_type": "code",
   "execution_count": 30,
   "metadata": {},
   "outputs": [
    {
     "name": "stderr",
     "output_type": "stream",
     "text": [
      "<ipython-input-30-04c57631d56d>:4: SettingWithCopyWarning: \n",
      "A value is trying to be set on a copy of a slice from a DataFrame.\n",
      "Try using .loc[row_indexer,col_indexer] = value instead\n",
      "\n",
      "See the caveats in the documentation: https://pandas.pydata.org/pandas-docs/stable/user_guide/indexing.html#returning-a-view-versus-a-copy\n",
      "  training2['SMS'] = training2['SMS'].str.replace('[^\\w!]',' ')\n",
      "<ipython-input-30-04c57631d56d>:5: SettingWithCopyWarning: \n",
      "A value is trying to be set on a copy of a slice from a DataFrame.\n",
      "Try using .loc[row_indexer,col_indexer] = value instead\n",
      "\n",
      "See the caveats in the documentation: https://pandas.pydata.org/pandas-docs/stable/user_guide/indexing.html#returning-a-view-versus-a-copy\n",
      "  training2['SMS'] = training2['SMS'].str.replace('!', ' ! ').str.split()\n",
      "<ipython-input-30-04c57631d56d>:6: SettingWithCopyWarning: \n",
      "A value is trying to be set on a copy of a slice from a DataFrame.\n",
      "Try using .loc[row_indexer,col_indexer] = value instead\n",
      "\n",
      "See the caveats in the documentation: https://pandas.pydata.org/pandas-docs/stable/user_guide/indexing.html#returning-a-view-versus-a-copy\n",
      "  training2['SMS'] = training2['SMS'].apply(keep_uppercase)\n"
     ]
    }
   ],
   "source": [
    "#I will make a new training dataset which preserves words in all capital letters and also exclamation marks.\n",
    "\n",
    "training2 = dataset.iloc[0 : 4458]\n",
    "training2['SMS'] = training2['SMS'].str.replace('[^\\w!]',' ')\n",
    "training2['SMS'] = training2['SMS'].str.replace('!', ' ! ').str.split()\n",
    "training2['SMS'] = training2['SMS'].apply(keep_uppercase)"
   ]
  },
  {
   "cell_type": "code",
   "execution_count": 31,
   "metadata": {},
   "outputs": [
    {
     "data": {
      "text/html": [
       "<div>\n",
       "<style scoped>\n",
       "    .dataframe tbody tr th:only-of-type {\n",
       "        vertical-align: middle;\n",
       "    }\n",
       "\n",
       "    .dataframe tbody tr th {\n",
       "        vertical-align: top;\n",
       "    }\n",
       "\n",
       "    .dataframe thead th {\n",
       "        text-align: right;\n",
       "    }\n",
       "</style>\n",
       "<table border=\"1\" class=\"dataframe\">\n",
       "  <thead>\n",
       "    <tr style=\"text-align: right;\">\n",
       "      <th></th>\n",
       "      <th>Label</th>\n",
       "      <th>SMS</th>\n",
       "    </tr>\n",
       "  </thead>\n",
       "  <tbody>\n",
       "    <tr>\n",
       "      <th>0</th>\n",
       "      <td>ham</td>\n",
       "      <td>[yep, by, the, pretty, sculpture]</td>\n",
       "    </tr>\n",
       "    <tr>\n",
       "      <th>1</th>\n",
       "      <td>ham</td>\n",
       "      <td>[yes, princess, are, you, going, to, make, me, moan]</td>\n",
       "    </tr>\n",
       "    <tr>\n",
       "      <th>2</th>\n",
       "      <td>ham</td>\n",
       "      <td>[welp, apparently, he, retired]</td>\n",
       "    </tr>\n",
       "    <tr>\n",
       "      <th>3</th>\n",
       "      <td>ham</td>\n",
       "      <td>[havent]</td>\n",
       "    </tr>\n",
       "    <tr>\n",
       "      <th>4</th>\n",
       "      <td>ham</td>\n",
       "      <td>[I, forgot, 2, ask, ü, all, smth, there, s, a, card, on, da, present, lei, how, Ü, all, want, 2, write, smth, or, sign, on, it]</td>\n",
       "    </tr>\n",
       "    <tr>\n",
       "      <th>5</th>\n",
       "      <td>ham</td>\n",
       "      <td>[ok, i, thk, i, got, it, then, u, wan, me, 2, come, now, or, wat]</td>\n",
       "    </tr>\n",
       "    <tr>\n",
       "      <th>6</th>\n",
       "      <td>ham</td>\n",
       "      <td>[I, want, kfc, its, tuesday, only, buy, 2, meals, ONLY, 2, no, gravy, only, 2, mark, 2, !]</td>\n",
       "    </tr>\n",
       "    <tr>\n",
       "      <th>7</th>\n",
       "      <td>ham</td>\n",
       "      <td>[no, dear, i, was, sleeping, P]</td>\n",
       "    </tr>\n",
       "    <tr>\n",
       "      <th>8</th>\n",
       "      <td>ham</td>\n",
       "      <td>[ok, pa, nothing, problem]</td>\n",
       "    </tr>\n",
       "    <tr>\n",
       "      <th>9</th>\n",
       "      <td>ham</td>\n",
       "      <td>[ill, be, there, on, lt, gt, ok]</td>\n",
       "    </tr>\n",
       "  </tbody>\n",
       "</table>\n",
       "</div>"
      ],
      "text/plain": [
       "  Label  \\\n",
       "0  ham    \n",
       "1  ham    \n",
       "2  ham    \n",
       "3  ham    \n",
       "4  ham    \n",
       "5  ham    \n",
       "6  ham    \n",
       "7  ham    \n",
       "8  ham    \n",
       "9  ham    \n",
       "\n",
       "                                                                                                                               SMS  \n",
       "0  [yep, by, the, pretty, sculpture]                                                                                                \n",
       "1  [yes, princess, are, you, going, to, make, me, moan]                                                                             \n",
       "2  [welp, apparently, he, retired]                                                                                                  \n",
       "3  [havent]                                                                                                                         \n",
       "4  [I, forgot, 2, ask, ü, all, smth, there, s, a, card, on, da, present, lei, how, Ü, all, want, 2, write, smth, or, sign, on, it]  \n",
       "5  [ok, i, thk, i, got, it, then, u, wan, me, 2, come, now, or, wat]                                                                \n",
       "6  [I, want, kfc, its, tuesday, only, buy, 2, meals, ONLY, 2, no, gravy, only, 2, mark, 2, !]                                       \n",
       "7  [no, dear, i, was, sleeping, P]                                                                                                  \n",
       "8  [ok, pa, nothing, problem]                                                                                                       \n",
       "9  [ill, be, there, on, lt, gt, ok]                                                                                                 "
      ]
     },
     "execution_count": 31,
     "metadata": {},
     "output_type": "execute_result"
    }
   ],
   "source": [
    "training2.reset_index(inplace=True, drop=True)\n",
    "training2.head(10)"
   ]
  },
  {
   "cell_type": "code",
   "execution_count": 32,
   "metadata": {},
   "outputs": [],
   "source": [
    "#I will rename the SMS column because SMS may be a word in new vocabulary, and hence have its own column name.\n",
    "\n",
    "training2 = training2.rename(columns={'SMS': 'S.M.S.'})"
   ]
  },
  {
   "cell_type": "code",
   "execution_count": 33,
   "metadata": {},
   "outputs": [
    {
     "data": {
      "text/plain": [
       "8509"
      ]
     },
     "execution_count": 33,
     "metadata": {},
     "output_type": "execute_result"
    }
   ],
   "source": [
    "#I will repeat the steps from making the first filter. Here I will make a list of all the words in the new vocabulary.\n",
    "\n",
    "vocabulary2 = []\n",
    "for l in training2['S.M.S.']:\n",
    "    for w in l:\n",
    "        vocabulary2.append(w)\n",
    "vocabulary2 = set(vocabulary2)\n",
    "vocabulary2 = list(vocabulary2)\n",
    "len(vocabulary2)"
   ]
  },
  {
   "cell_type": "code",
   "execution_count": 34,
   "metadata": {},
   "outputs": [],
   "source": [
    "#Here I will set some new variables for the LaPlace smoothing equation.\n",
    "\n",
    "n_vocabulary2 = len(vocabulary2)\n",
    "alpha = 1"
   ]
  },
  {
   "cell_type": "code",
   "execution_count": 35,
   "metadata": {},
   "outputs": [],
   "source": [
    "#Create a new training dataframe with the word counts from the new vocabulary\n",
    "\n",
    "new_word_counts_per_sms = {unique_word: [0] * len(training2['S.M.S.']) for unique_word in vocabulary2}\n",
    "for index, sms in enumerate(training2['S.M.S.']):\n",
    "    for word in sms:\n",
    "        new_word_counts_per_sms[word][index] += 1\n",
    "new_word_counts = pd.DataFrame(new_word_counts_per_sms)\n",
    "updated_training2 = pd.concat([training2, new_word_counts], axis=1)"
   ]
  },
  {
   "cell_type": "code",
   "execution_count": 36,
   "metadata": {},
   "outputs": [
    {
     "name": "stdout",
     "output_type": "stream",
     "text": [
      "15631\n"
     ]
    }
   ],
   "source": [
    "#Find number of words from new vocabulary in all of the spam messages.\n",
    "\n",
    "spam2 = updated_training2[updated_training2['Label'] == 'spam']\n",
    "n_spam2 = spam2['S.M.S.'].apply(len).sum()\n",
    "print(n_spam2)"
   ]
  },
  {
   "cell_type": "code",
   "execution_count": 37,
   "metadata": {},
   "outputs": [
    {
     "name": "stdout",
     "output_type": "stream",
     "text": [
      "57944\n"
     ]
    }
   ],
   "source": [
    "#Find number of words from new vocabulary in all of the ham messages.\n",
    "\n",
    "ham2 = updated_training2[updated_training2['Label'] == 'ham']\n",
    "n_ham2 = ham2['S.M.S.'].apply(len).sum()\n",
    "print(n_ham2)"
   ]
  },
  {
   "cell_type": "code",
   "execution_count": 38,
   "metadata": {},
   "outputs": [],
   "source": [
    "#Create 2 new dictionaries (1 for spam and 1 for ham), to contain the probabilites of each word from new vocabulary\n",
    "#appearing in either a spam or ham message.\n",
    "\n",
    "ham_dict2 = {}\n",
    "spam_dict2 = {}\n",
    "for w in vocabulary2:\n",
    "    ham_dict2[w] = 0\n",
    "    spam_dict2[w] = 0   "
   ]
  },
  {
   "cell_type": "code",
   "execution_count": 39,
   "metadata": {},
   "outputs": [],
   "source": [
    "#Calculate the values for the dictionaries\n",
    "\n",
    "n_vocabulary2 = len(vocabulary2)\n",
    "for w in vocabulary2:\n",
    "    nw_spam2 = spam2['S.M.S.'].apply(lambda x: x.count(w)).sum()\n",
    "    nw_ham2 = ham2['S.M.S.'].apply(lambda x: x.count(w)).sum()\n",
    "    spam_dict2[w] = (nw_spam2 + alpha)/(n_spam2 + alpha*n_vocabulary2)\n",
    "    ham_dict2[w] = (nw_ham2 + alpha)/(n_ham2 + alpha*n_vocabulary2)"
   ]
  },
  {
   "cell_type": "code",
   "execution_count": 40,
   "metadata": {},
   "outputs": [],
   "source": [
    "#Create new filter using new variables.\n",
    "\n",
    "def classify_test2(message):\n",
    "    \n",
    "    message = message.replace('[^\\w!]',' ')\n",
    "    message = message.replace('!', ' ! ').split()\n",
    "    for w in message:\n",
    "        if w.isupper() == False:\n",
    "            w = w.lower()\n",
    "    \n",
    "    \n",
    "    x = p_spam\n",
    "    y = p_ham\n",
    "\n",
    "    \n",
    "    for w in message:\n",
    "        if w in spam_dict2:\n",
    "            x *= spam_dict2[w]\n",
    "        if w in ham_dict2:\n",
    "            y *= ham_dict2[w]\n",
    "    \n",
    "    p_spam_given_message = x\n",
    "    p_ham_given_message = y\n",
    "           \n",
    "    \n",
    "    if p_ham_given_message > p_spam_given_message:\n",
    "        return 'ham'\n",
    "    elif p_ham_given_message < p_spam_given_message:\n",
    "        return 'spam'\n",
    "    else:\n",
    "        return 'Needs human classification'"
   ]
  },
  {
   "cell_type": "code",
   "execution_count": 41,
   "metadata": {},
   "outputs": [],
   "source": [
    "#Apply new filter to the test dataframe\n",
    "\n",
    "test['filter_result2'] = test['SMS'].apply(classify_test2)"
   ]
  },
  {
   "cell_type": "code",
   "execution_count": 42,
   "metadata": {},
   "outputs": [
    {
     "data": {
      "text/plain": [
       "True     0.979354\n",
       "False    0.020646\n",
       "dtype: float64"
      ]
     },
     "execution_count": 42,
     "metadata": {},
     "output_type": "execute_result"
    }
   ],
   "source": [
    "#Determine success rate of filter\n",
    "\n",
    "match = test['Label'] == test['filter_result2']\n",
    "match.value_counts(normalize=True)"
   ]
  },
  {
   "cell_type": "markdown",
   "metadata": {},
   "source": [
    "The updated algorithm performed slightly worse than the first one. Though it as still highly effective, with a success rate of %97.9 (compared to %98.3 for the first filter)."
   ]
  },
  {
   "cell_type": "code",
   "execution_count": 43,
   "metadata": {},
   "outputs": [
    {
     "data": {
      "text/plain": [
       "(23, 4)"
      ]
     },
     "execution_count": 43,
     "metadata": {},
     "output_type": "execute_result"
    }
   ],
   "source": [
    "#Find out how many messages were incorretly classified\n",
    "\n",
    "test[test['Label'] != test['filter_result2']].shape"
   ]
  },
  {
   "cell_type": "code",
   "execution_count": 44,
   "metadata": {},
   "outputs": [
    {
     "data": {
      "text/html": [
       "<div>\n",
       "<style scoped>\n",
       "    .dataframe tbody tr th:only-of-type {\n",
       "        vertical-align: middle;\n",
       "    }\n",
       "\n",
       "    .dataframe tbody tr th {\n",
       "        vertical-align: top;\n",
       "    }\n",
       "\n",
       "    .dataframe thead th {\n",
       "        text-align: right;\n",
       "    }\n",
       "</style>\n",
       "<table border=\"1\" class=\"dataframe\">\n",
       "  <thead>\n",
       "    <tr style=\"text-align: right;\">\n",
       "      <th></th>\n",
       "      <th>Label</th>\n",
       "      <th>SMS</th>\n",
       "      <th>filter_result</th>\n",
       "      <th>filter_result2</th>\n",
       "    </tr>\n",
       "  </thead>\n",
       "  <tbody>\n",
       "    <tr>\n",
       "      <th>29</th>\n",
       "      <td>ham</td>\n",
       "      <td>THING R GOOD THANX GOT EXAMS IN MARCH IVE DONE NO REVISION? IS FRAN STILL WITH BOYF? IVE GOTTA INTERVIW 4 EXETER BIT WORRIED!x</td>\n",
       "      <td>ham</td>\n",
       "      <td>spam</td>\n",
       "    </tr>\n",
       "    <tr>\n",
       "      <th>114</th>\n",
       "      <td>spam</td>\n",
       "      <td>Not heard from U4 a while. Call me now am here all night with just my knickers on. Make me beg for it like U did last time 01223585236 XX Luv Nikiyu4.net</td>\n",
       "      <td>ham</td>\n",
       "      <td>ham</td>\n",
       "    </tr>\n",
       "    <tr>\n",
       "      <th>135</th>\n",
       "      <td>spam</td>\n",
       "      <td>More people are dogging in your area now. Call 09090204448 and join like minded guys. Why not arrange 1 yourself. There's 1 this evening. A£1.50 minAPN LS278BB</td>\n",
       "      <td>spam</td>\n",
       "      <td>ham</td>\n",
       "    </tr>\n",
       "    <tr>\n",
       "      <th>207</th>\n",
       "      <td>ham</td>\n",
       "      <td>Miss call miss call khelate kintu opponenter miss call dhorte lage. Thats d rule. One with great phone receiving quality wins.</td>\n",
       "      <td>ham</td>\n",
       "      <td>spam</td>\n",
       "    </tr>\n",
       "    <tr>\n",
       "      <th>244</th>\n",
       "      <td>ham</td>\n",
       "      <td>ARE YOU IN TOWN? THIS IS V. IMPORTANT</td>\n",
       "      <td>ham</td>\n",
       "      <td>spam</td>\n",
       "    </tr>\n",
       "    <tr>\n",
       "      <th>287</th>\n",
       "      <td>spam</td>\n",
       "      <td>Cashbin.co.uk (Get lots of cash this weekend!) www.cashbin.co.uk Dear Welcome to the weekend We have got our biggest and best EVER cash give away!! These..</td>\n",
       "      <td>ham</td>\n",
       "      <td>ham</td>\n",
       "    </tr>\n",
       "    <tr>\n",
       "      <th>323</th>\n",
       "      <td>ham</td>\n",
       "      <td>CHEERS U TEX MECAUSE U WEREBORED! YEAH OKDEN HUNNY R UIN WK SAT?SOUNDS LIKEYOUR HAVIN GR8FUN J! KEEP UPDAT COUNTINLOTS OF LOVEME XXXXX.</td>\n",
       "      <td>ham</td>\n",
       "      <td>spam</td>\n",
       "    </tr>\n",
       "    <tr>\n",
       "      <th>363</th>\n",
       "      <td>spam</td>\n",
       "      <td>Email AlertFrom: Jeri StewartSize: 2KBSubject: Low-cost prescripiton drvgsTo listen to email call 123</td>\n",
       "      <td>ham</td>\n",
       "      <td>ham</td>\n",
       "    </tr>\n",
       "    <tr>\n",
       "      <th>443</th>\n",
       "      <td>spam</td>\n",
       "      <td>Got what it takes 2 take part in the WRC Rally in Oz? U can with Lucozade Energy! Text RALLY LE to 61200 (25p), see packs or lucozade.co.uk/wrc &amp; itcould be u!</td>\n",
       "      <td>spam</td>\n",
       "      <td>ham</td>\n",
       "    </tr>\n",
       "    <tr>\n",
       "      <th>466</th>\n",
       "      <td>spam</td>\n",
       "      <td>You won't believe it but it's true. It's Incredible Txts! Reply G now to learn truly amazing things that will blow your mind. From O2FWD only 18p/txt</td>\n",
       "      <td>ham</td>\n",
       "      <td>ham</td>\n",
       "    </tr>\n",
       "    <tr>\n",
       "      <th>492</th>\n",
       "      <td>ham</td>\n",
       "      <td>Madam,regret disturbance.might receive a reference check from DLF Premarica.kindly be informed.Rgds,Rakhesh,Kerala.</td>\n",
       "      <td>spam</td>\n",
       "      <td>spam</td>\n",
       "    </tr>\n",
       "    <tr>\n",
       "      <th>504</th>\n",
       "      <td>spam</td>\n",
       "      <td>Oh my god! I've found your number again! I'm so glad, text me back xafter this msgs cst std ntwk chg £1.50</td>\n",
       "      <td>ham</td>\n",
       "      <td>ham</td>\n",
       "    </tr>\n",
       "    <tr>\n",
       "      <th>546</th>\n",
       "      <td>spam</td>\n",
       "      <td>Hi babe its Chloe, how r u? I was smashed on saturday night, it was great! How was your weekend? U been missing me? SP visionsms.com Text stop to stop 150p/text</td>\n",
       "      <td>ham</td>\n",
       "      <td>ham</td>\n",
       "    </tr>\n",
       "    <tr>\n",
       "      <th>673</th>\n",
       "      <td>spam</td>\n",
       "      <td>Burger King - Wanna play footy at a top stadium? Get 2 Burger King before 1st Sept and go Large or Super with Coca-Cola and walk out a winner</td>\n",
       "      <td>spam</td>\n",
       "      <td>ham</td>\n",
       "    </tr>\n",
       "    <tr>\n",
       "      <th>741</th>\n",
       "      <td>spam</td>\n",
       "      <td>0A$NETWORKS allow companies to bill for SMS, so they are responsible for their \"suppliers\", just as a shop has to give a guarantee on what they sell. B. G.</td>\n",
       "      <td>ham</td>\n",
       "      <td>ham</td>\n",
       "    </tr>\n",
       "    <tr>\n",
       "      <th>876</th>\n",
       "      <td>spam</td>\n",
       "      <td>RCT' THNQ Adrian for U text. Rgds Vatian</td>\n",
       "      <td>ham</td>\n",
       "      <td>ham</td>\n",
       "    </tr>\n",
       "    <tr>\n",
       "      <th>885</th>\n",
       "      <td>spam</td>\n",
       "      <td>2/2 146tf150p</td>\n",
       "      <td>ham</td>\n",
       "      <td>ham</td>\n",
       "    </tr>\n",
       "    <tr>\n",
       "      <th>917</th>\n",
       "      <td>spam</td>\n",
       "      <td>Dont forget you can place as many FREE Requests with 1stchoice.co.uk as you wish. For more Information call 08707808226.</td>\n",
       "      <td>ham</td>\n",
       "      <td>ham</td>\n",
       "    </tr>\n",
       "    <tr>\n",
       "      <th>953</th>\n",
       "      <td>spam</td>\n",
       "      <td>Hello. We need some posh birds and chaps to user trial prods for champneys. Can i put you down? I need your address and dob asap. Ta r</td>\n",
       "      <td>ham</td>\n",
       "      <td>ham</td>\n",
       "    </tr>\n",
       "    <tr>\n",
       "      <th>1006</th>\n",
       "      <td>spam</td>\n",
       "      <td>A link to your picture has been sent. You can also use http://alto18.co.uk/wave/wave.asp?o=44345</td>\n",
       "      <td>ham</td>\n",
       "      <td>ham</td>\n",
       "    </tr>\n",
       "    <tr>\n",
       "      <th>1048</th>\n",
       "      <td>spam</td>\n",
       "      <td>FreeMsg:Feelin kinda lnly hope u like 2 keep me company! Jst got a cam moby wanna c my pic?Txt or reply DATE to 82242 Msg150p 2rcv Hlp 08712317606 stop to 82242</td>\n",
       "      <td>spam</td>\n",
       "      <td>ham</td>\n",
       "    </tr>\n",
       "    <tr>\n",
       "      <th>1073</th>\n",
       "      <td>ham</td>\n",
       "      <td>I (Career Tel) have added u as a contact on INDYAROCKS.COM to send FREE SMS. To remove from phonebook - sms NO to  &amp;lt;#&amp;gt;</td>\n",
       "      <td>spam</td>\n",
       "      <td>spam</td>\n",
       "    </tr>\n",
       "    <tr>\n",
       "      <th>1111</th>\n",
       "      <td>ham</td>\n",
       "      <td>CERI U REBEL! SWEET DREAMZ ME LITTLE BUDDY!! C YA 2MORO! WHO NEEDS BLOKES</td>\n",
       "      <td>ham</td>\n",
       "      <td>spam</td>\n",
       "    </tr>\n",
       "  </tbody>\n",
       "</table>\n",
       "</div>"
      ],
      "text/plain": [
       "     Label  \\\n",
       "29    ham    \n",
       "114   spam   \n",
       "135   spam   \n",
       "207   ham    \n",
       "244   ham    \n",
       "287   spam   \n",
       "323   ham    \n",
       "363   spam   \n",
       "443   spam   \n",
       "466   spam   \n",
       "492   ham    \n",
       "504   spam   \n",
       "546   spam   \n",
       "673   spam   \n",
       "741   spam   \n",
       "876   spam   \n",
       "885   spam   \n",
       "917   spam   \n",
       "953   spam   \n",
       "1006  spam   \n",
       "1048  spam   \n",
       "1073  ham    \n",
       "1111  ham    \n",
       "\n",
       "                                                                                                                                                                   SMS  \\\n",
       "29    THING R GOOD THANX GOT EXAMS IN MARCH IVE DONE NO REVISION? IS FRAN STILL WITH BOYF? IVE GOTTA INTERVIW 4 EXETER BIT WORRIED!x                                     \n",
       "114   Not heard from U4 a while. Call me now am here all night with just my knickers on. Make me beg for it like U did last time 01223585236 XX Luv Nikiyu4.net          \n",
       "135   More people are dogging in your area now. Call 09090204448 and join like minded guys. Why not arrange 1 yourself. There's 1 this evening. A£1.50 minAPN LS278BB    \n",
       "207   Miss call miss call khelate kintu opponenter miss call dhorte lage. Thats d rule. One with great phone receiving quality wins.                                     \n",
       "244   ARE YOU IN TOWN? THIS IS V. IMPORTANT                                                                                                                              \n",
       "287   Cashbin.co.uk (Get lots of cash this weekend!) www.cashbin.co.uk Dear Welcome to the weekend We have got our biggest and best EVER cash give away!! These..        \n",
       "323   CHEERS U TEX MECAUSE U WEREBORED! YEAH OKDEN HUNNY R UIN WK SAT?SOUNDS LIKEYOUR HAVIN GR8FUN J! KEEP UPDAT COUNTINLOTS OF LOVEME XXXXX.                           \n",
       "363   Email AlertFrom: Jeri StewartSize: 2KBSubject: Low-cost prescripiton drvgsTo listen to email call 123                                                              \n",
       "443   Got what it takes 2 take part in the WRC Rally in Oz? U can with Lucozade Energy! Text RALLY LE to 61200 (25p), see packs or lucozade.co.uk/wrc & itcould be u!    \n",
       "466   You won't believe it but it's true. It's Incredible Txts! Reply G now to learn truly amazing things that will blow your mind. From O2FWD only 18p/txt              \n",
       "492   Madam,regret disturbance.might receive a reference check from DLF Premarica.kindly be informed.Rgds,Rakhesh,Kerala.                                                \n",
       "504   Oh my god! I've found your number again! I'm so glad, text me back xafter this msgs cst std ntwk chg £1.50                                                         \n",
       "546   Hi babe its Chloe, how r u? I was smashed on saturday night, it was great! How was your weekend? U been missing me? SP visionsms.com Text stop to stop 150p/text   \n",
       "673   Burger King - Wanna play footy at a top stadium? Get 2 Burger King before 1st Sept and go Large or Super with Coca-Cola and walk out a winner                      \n",
       "741   0A$NETWORKS allow companies to bill for SMS, so they are responsible for their \"suppliers\", just as a shop has to give a guarantee on what they sell. B. G.        \n",
       "876   RCT' THNQ Adrian for U text. Rgds Vatian                                                                                                                           \n",
       "885   2/2 146tf150p                                                                                                                                                      \n",
       "917   Dont forget you can place as many FREE Requests with 1stchoice.co.uk as you wish. For more Information call 08707808226.                                           \n",
       "953   Hello. We need some posh birds and chaps to user trial prods for champneys. Can i put you down? I need your address and dob asap. Ta r                             \n",
       "1006  A link to your picture has been sent. You can also use http://alto18.co.uk/wave/wave.asp?o=44345                                                                   \n",
       "1048  FreeMsg:Feelin kinda lnly hope u like 2 keep me company! Jst got a cam moby wanna c my pic?Txt or reply DATE to 82242 Msg150p 2rcv Hlp 08712317606 stop to 82242   \n",
       "1073  I (Career Tel) have added u as a contact on INDYAROCKS.COM to send FREE SMS. To remove from phonebook - sms NO to  &lt;#&gt;                                       \n",
       "1111  CERI U REBEL! SWEET DREAMZ ME LITTLE BUDDY!! C YA 2MORO! WHO NEEDS BLOKES                                                                                          \n",
       "\n",
       "     filter_result filter_result2  \n",
       "29    ham           spam           \n",
       "114   ham           ham            \n",
       "135   spam          ham            \n",
       "207   ham           spam           \n",
       "244   ham           spam           \n",
       "287   ham           ham            \n",
       "323   ham           spam           \n",
       "363   ham           ham            \n",
       "443   spam          ham            \n",
       "466   ham           ham            \n",
       "492   spam          spam           \n",
       "504   ham           ham            \n",
       "546   ham           ham            \n",
       "673   spam          ham            \n",
       "741   ham           ham            \n",
       "876   ham           ham            \n",
       "885   ham           ham            \n",
       "917   ham           ham            \n",
       "953   ham           ham            \n",
       "1006  ham           ham            \n",
       "1048  spam          ham            \n",
       "1073  spam          spam           \n",
       "1111  ham           spam           "
      ]
     },
     "execution_count": 44,
     "metadata": {},
     "output_type": "execute_result"
    }
   ],
   "source": [
    "#Display incorrectly classified messages\n",
    "\n",
    "pd.set_option(\"max_colwidth\", 1)\n",
    "test[test['Label'] != test['filter_result2']].head(23)"
   ]
  },
  {
   "cell_type": "markdown",
   "metadata": {},
   "source": [
    "It appears that making the algorithm sensitive to case may have caused it to inadvertantly flag some ham messages with lots of capital letters as spam. \n",
    "\n",
    "Overall, it appears the first spam filter performed slightly better."
   ]
  }
 ],
 "metadata": {
  "kernelspec": {
   "display_name": "Python 3",
   "language": "python",
   "name": "python3"
  },
  "language_info": {
   "codemirror_mode": {
    "name": "ipython",
    "version": 3
   },
   "file_extension": ".py",
   "mimetype": "text/x-python",
   "name": "python",
   "nbconvert_exporter": "python",
   "pygments_lexer": "ipython3",
   "version": "3.8.3"
  }
 },
 "nbformat": 4,
 "nbformat_minor": 4
}
